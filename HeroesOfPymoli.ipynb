{
 "cells": [
  {
   "cell_type": "code",
   "execution_count": 1,
   "metadata": {},
   "outputs": [],
   "source": [
    "# Dependencies and Setup\n",
    "import pandas as pd\n",
    "import os\n",
    "\n",
    "# Load .csv file from Resources folder\n",
    "purchase_data = os.path.join(\"Resources\", \"purchase_data.csv\")\n",
    "\n",
    "# Read purchase data file and store into Pandas data frame\n",
    "purchase_data = pd.read_csv(purchase_data, encoding=\"ISO-8859-1\")"
   ]
  },
  {
   "cell_type": "markdown",
   "metadata": {},
   "source": [
    "## Player Count"
   ]
  },
  {
   "cell_type": "markdown",
   "metadata": {},
   "source": [
    "* Display the total number of players\n"
   ]
  },
  {
   "cell_type": "code",
   "execution_count": 2,
   "metadata": {},
   "outputs": [
    {
     "data": {
      "text/html": [
       "<div>\n",
       "<style scoped>\n",
       "    .dataframe tbody tr th:only-of-type {\n",
       "        vertical-align: middle;\n",
       "    }\n",
       "\n",
       "    .dataframe tbody tr th {\n",
       "        vertical-align: top;\n",
       "    }\n",
       "\n",
       "    .dataframe thead th {\n",
       "        text-align: right;\n",
       "    }\n",
       "</style>\n",
       "<table border=\"1\" class=\"dataframe\">\n",
       "  <thead>\n",
       "    <tr style=\"text-align: right;\">\n",
       "      <th></th>\n",
       "      <th>Total Players</th>\n",
       "    </tr>\n",
       "  </thead>\n",
       "  <tbody>\n",
       "    <tr>\n",
       "      <th>0</th>\n",
       "      <td>576</td>\n",
       "    </tr>\n",
       "  </tbody>\n",
       "</table>\n",
       "</div>"
      ],
      "text/plain": [
       "   Total Players\n",
       "0            576"
      ]
     },
     "execution_count": 2,
     "metadata": {},
     "output_type": "execute_result"
    }
   ],
   "source": [
    "# Get total number of players as the length (number of items) of the list of unique screen names\n",
    "player_count = len(purchase_data[\"SN\"].unique())\n",
    "\n",
    "# Create and display the DataFrame displaying the number of total players\n",
    "count_df = pd.DataFrame({\"Total Players\": player_count}, index=[0])\n",
    "count_df"
   ]
  },
  {
   "cell_type": "markdown",
   "metadata": {},
   "source": [
    "## Purchasing Analysis (Total)"
   ]
  },
  {
   "cell_type": "markdown",
   "metadata": {},
   "source": [
    "* Run basic calculations to obtain number of unique items, average price, etc.\n",
    "\n",
    "\n",
    "* Create a summary data frame to hold the results\n",
    "\n",
    "\n",
    "* Optional: give the displayed data cleaner formatting\n",
    "\n",
    "\n",
    "* Display the summary data frame\n"
   ]
  },
  {
   "cell_type": "code",
   "execution_count": 3,
   "metadata": {
    "scrolled": true
   },
   "outputs": [
    {
     "data": {
      "text/html": [
       "<div>\n",
       "<style scoped>\n",
       "    .dataframe tbody tr th:only-of-type {\n",
       "        vertical-align: middle;\n",
       "    }\n",
       "\n",
       "    .dataframe tbody tr th {\n",
       "        vertical-align: top;\n",
       "    }\n",
       "\n",
       "    .dataframe thead th {\n",
       "        text-align: right;\n",
       "    }\n",
       "</style>\n",
       "<table border=\"1\" class=\"dataframe\">\n",
       "  <thead>\n",
       "    <tr style=\"text-align: right;\">\n",
       "      <th></th>\n",
       "      <th>Number of Unique Items</th>\n",
       "      <th>Average Price</th>\n",
       "      <th>Number of Purchases</th>\n",
       "      <th>Total Revenue</th>\n",
       "    </tr>\n",
       "  </thead>\n",
       "  <tbody>\n",
       "    <tr>\n",
       "      <th>0</th>\n",
       "      <td>179</td>\n",
       "      <td>$3.05</td>\n",
       "      <td>780</td>\n",
       "      <td>$2,379.77</td>\n",
       "    </tr>\n",
       "  </tbody>\n",
       "</table>\n",
       "</div>"
      ],
      "text/plain": [
       "   Number of Unique Items Average Price  Number of Purchases Total Revenue\n",
       "0                     179         $3.05                  780     $2,379.77"
      ]
     },
     "execution_count": 3,
     "metadata": {},
     "output_type": "execute_result"
    }
   ],
   "source": [
    "# Create and display the formatted DataFrame containing basic analysis (utilizing various functions) of the purchase data\n",
    "purchase_df = pd.DataFrame({\n",
    "    # Get the number of unique items as the length of the list of unique item IDs\n",
    "    \"Number of Unique Items\": [len(purchase_data[\"Item ID\"].unique())],\n",
    "    # Get the average price of all items by calculating the average (mean) of the price column\n",
    "    \"Average Price\": [\"${:.2f}\".format(purchase_data[\"Price\"].mean())],\n",
    "    # Get the total number of purchases by taking the total count of the purchase ID column\n",
    "    \"Number of Purchases\": [purchase_data[\"Purchase ID\"].count()],\n",
    "    # Get the total revenue as the sum total of the price of all items purchased\n",
    "    \"Total Revenue\": [\"${:,.2f}\".format(purchase_data[\"Price\"].sum())]\n",
    "})\n",
    "purchase_df"
   ]
  },
  {
   "cell_type": "markdown",
   "metadata": {},
   "source": [
    "## Gender Demographics"
   ]
  },
  {
   "cell_type": "markdown",
   "metadata": {},
   "source": [
    "* Percentage and Count of Male Players\n",
    "\n",
    "\n",
    "* Percentage and Count of Female Players\n",
    "\n",
    "\n",
    "* Percentage and Count of Other / Non-Disclosed\n",
    "\n",
    "\n"
   ]
  },
  {
   "cell_type": "code",
   "execution_count": 4,
   "metadata": {},
   "outputs": [
    {
     "data": {
      "text/html": [
       "<div>\n",
       "<style scoped>\n",
       "    .dataframe tbody tr th:only-of-type {\n",
       "        vertical-align: middle;\n",
       "    }\n",
       "\n",
       "    .dataframe tbody tr th {\n",
       "        vertical-align: top;\n",
       "    }\n",
       "\n",
       "    .dataframe thead th {\n",
       "        text-align: right;\n",
       "    }\n",
       "</style>\n",
       "<table border=\"1\" class=\"dataframe\">\n",
       "  <thead>\n",
       "    <tr style=\"text-align: right;\">\n",
       "      <th></th>\n",
       "      <th>Total Count</th>\n",
       "      <th>Percentage of Players</th>\n",
       "    </tr>\n",
       "  </thead>\n",
       "  <tbody>\n",
       "    <tr>\n",
       "      <th>[Male]</th>\n",
       "      <td>484</td>\n",
       "      <td>84.03%</td>\n",
       "    </tr>\n",
       "    <tr>\n",
       "      <th>[Female]</th>\n",
       "      <td>81</td>\n",
       "      <td>14.06%</td>\n",
       "    </tr>\n",
       "    <tr>\n",
       "      <th>[Other / Non-Disclosed]</th>\n",
       "      <td>11</td>\n",
       "      <td>1.91%</td>\n",
       "    </tr>\n",
       "  </tbody>\n",
       "</table>\n",
       "</div>"
      ],
      "text/plain": [
       "                         Total Count Percentage of Players\n",
       "[Male]                           484                84.03%\n",
       "[Female]                          81                14.06%\n",
       "[Other / Non-Disclosed]           11                 1.91%"
      ]
     },
     "execution_count": 4,
     "metadata": {},
     "output_type": "execute_result"
    }
   ],
   "source": [
    "# Get total number of players by gender, first by grouping by unique screen names, then by gender, and taking the value count\n",
    "total_count = purchase_data.groupby([\"SN\"])[\"Gender\"].unique().value_counts()\n",
    "# Get percentage of players by gender using the same syntax as above, but normalizing the data\n",
    "pct_players = purchase_data.groupby([\"SN\"])[\"Gender\"].unique().value_counts(normalize=True)\n",
    "# Create the DataFrame containing the aforementioned calculations\n",
    "gender_demos = pd.DataFrame({\"Total Count\": total_count, \"Percentage of Players\": pct_players * 100})\n",
    "# Format and display the DataFrame\n",
    "gender_demos[\"Percentage of Players\"] = gender_demos[\"Percentage of Players\"].map(\"{:.2f}%\".format)\n",
    "gender_demos"
   ]
  },
  {
   "cell_type": "markdown",
   "metadata": {},
   "source": [
    "\n",
    "## Purchasing Analysis (Gender)"
   ]
  },
  {
   "cell_type": "markdown",
   "metadata": {},
   "source": [
    "* Run basic calculations to obtain purchase count, avg. purchase price, avg. purchase total per person etc. by gender\n",
    "\n",
    "\n",
    "\n",
    "\n",
    "* Create a summary data frame to hold the results\n",
    "\n",
    "\n",
    "* Optional: give the displayed data cleaner formatting\n",
    "\n",
    "\n",
    "* Display the summary data frame"
   ]
  },
  {
   "cell_type": "code",
   "execution_count": 5,
   "metadata": {},
   "outputs": [
    {
     "data": {
      "text/html": [
       "<div>\n",
       "<style scoped>\n",
       "    .dataframe tbody tr th:only-of-type {\n",
       "        vertical-align: middle;\n",
       "    }\n",
       "\n",
       "    .dataframe tbody tr th {\n",
       "        vertical-align: top;\n",
       "    }\n",
       "\n",
       "    .dataframe thead th {\n",
       "        text-align: right;\n",
       "    }\n",
       "</style>\n",
       "<table border=\"1\" class=\"dataframe\">\n",
       "  <thead>\n",
       "    <tr style=\"text-align: right;\">\n",
       "      <th></th>\n",
       "      <th>Purchase Count</th>\n",
       "      <th>Average Purchase Price</th>\n",
       "      <th>Total Purchase Value</th>\n",
       "      <th>Avg Total Purchase Per Person</th>\n",
       "    </tr>\n",
       "    <tr>\n",
       "      <th>Gender</th>\n",
       "      <th></th>\n",
       "      <th></th>\n",
       "      <th></th>\n",
       "      <th></th>\n",
       "    </tr>\n",
       "  </thead>\n",
       "  <tbody>\n",
       "    <tr>\n",
       "      <th>Female</th>\n",
       "      <td>113</td>\n",
       "      <td>$3.20</td>\n",
       "      <td>$361.94</td>\n",
       "      <td>$4.47</td>\n",
       "    </tr>\n",
       "    <tr>\n",
       "      <th>Male</th>\n",
       "      <td>652</td>\n",
       "      <td>$3.02</td>\n",
       "      <td>$1,967.64</td>\n",
       "      <td>$4.07</td>\n",
       "    </tr>\n",
       "    <tr>\n",
       "      <th>Other / Non-Disclosed</th>\n",
       "      <td>15</td>\n",
       "      <td>$3.35</td>\n",
       "      <td>$50.19</td>\n",
       "      <td>$4.56</td>\n",
       "    </tr>\n",
       "  </tbody>\n",
       "</table>\n",
       "</div>"
      ],
      "text/plain": [
       "                       Purchase Count Average Purchase Price  \\\n",
       "Gender                                                         \n",
       "Female                            113                  $3.20   \n",
       "Male                              652                  $3.02   \n",
       "Other / Non-Disclosed              15                  $3.35   \n",
       "\n",
       "                      Total Purchase Value Avg Total Purchase Per Person  \n",
       "Gender                                                                    \n",
       "Female                             $361.94                         $4.47  \n",
       "Male                             $1,967.64                         $4.07  \n",
       "Other / Non-Disclosed               $50.19                         $4.56  "
      ]
     },
     "execution_count": 5,
     "metadata": {},
     "output_type": "execute_result"
    }
   ],
   "source": [
    "# Get the purchase count for each gender by grouping by gender and taking the count of each respective purchase ID\n",
    "purch_count = purchase_data.groupby(\"Gender\")[\"Purchase ID\"].count()\n",
    "\n",
    "# Get the average price of each item purchasd by gender by grouping by gender and calculating the average (mean) for the price column\n",
    "avg_price = purchase_data.groupby(\"Gender\")[\"Price\"].mean()\n",
    "\n",
    "# Get the total value of purchases by multiplying the average price per item purchased by the total number of items purchased\n",
    "total_value = avg_price * purch_count\n",
    "\n",
    "# Get the total number of players by gender using a different method of calculation than previously utilized (group by gender and get the number of unique screen name values)\n",
    "total_count1 = purchase_data.groupby(\"Gender\")[\"SN\"].nunique()\n",
    "\n",
    "# Get the average total per person of each gender by dividing the total value of purchases by number of players of each gender\n",
    "avg_purch = total_value / total_count1\n",
    "\n",
    "# Create and dsiplay the formatted DataFrame\n",
    "purch_analysis = pd.DataFrame({\n",
    "    \"Purchase Count\": purch_count, \n",
    "    \"Average Purchase Price\": avg_price.map(\"${:.2f}\".format), \n",
    "    \"Total Purchase Value\": total_value.map(\"${:,.2f}\".format), \n",
    "    \"Avg Total Purchase Per Person\": avg_purch.map(\"${:.2f}\".format)\n",
    "})\n",
    "purch_analysis"
   ]
  },
  {
   "cell_type": "markdown",
   "metadata": {},
   "source": [
    "## Age Demographics"
   ]
  },
  {
   "cell_type": "markdown",
   "metadata": {},
   "source": [
    "* Establish bins for ages\n",
    "\n",
    "\n",
    "* Categorize the existing players using the age bins. Hint: use pd.cut()\n",
    "\n",
    "\n",
    "* Calculate the numbers and percentages by age group\n",
    "\n",
    "\n",
    "* Create a summary data frame to hold the results\n",
    "\n",
    "\n",
    "* Optional: round the percentage column to two decimal points\n",
    "\n",
    "\n",
    "* Display Age Demographics Table\n"
   ]
  },
  {
   "cell_type": "code",
   "execution_count": 6,
   "metadata": {},
   "outputs": [
    {
     "data": {
      "text/html": [
       "<div>\n",
       "<style scoped>\n",
       "    .dataframe tbody tr th:only-of-type {\n",
       "        vertical-align: middle;\n",
       "    }\n",
       "\n",
       "    .dataframe tbody tr th {\n",
       "        vertical-align: top;\n",
       "    }\n",
       "\n",
       "    .dataframe thead th {\n",
       "        text-align: right;\n",
       "    }\n",
       "</style>\n",
       "<table border=\"1\" class=\"dataframe\">\n",
       "  <thead>\n",
       "    <tr style=\"text-align: right;\">\n",
       "      <th></th>\n",
       "      <th>Total Count</th>\n",
       "      <th>Percentage of Players</th>\n",
       "    </tr>\n",
       "    <tr>\n",
       "      <th>Age Group</th>\n",
       "      <th></th>\n",
       "      <th></th>\n",
       "    </tr>\n",
       "  </thead>\n",
       "  <tbody>\n",
       "    <tr>\n",
       "      <th>&lt;10</th>\n",
       "      <td>17</td>\n",
       "      <td>2.95%</td>\n",
       "    </tr>\n",
       "    <tr>\n",
       "      <th>10-14</th>\n",
       "      <td>22</td>\n",
       "      <td>3.82%</td>\n",
       "    </tr>\n",
       "    <tr>\n",
       "      <th>15-19</th>\n",
       "      <td>107</td>\n",
       "      <td>18.58%</td>\n",
       "    </tr>\n",
       "    <tr>\n",
       "      <th>20-24</th>\n",
       "      <td>258</td>\n",
       "      <td>44.79%</td>\n",
       "    </tr>\n",
       "    <tr>\n",
       "      <th>25-29</th>\n",
       "      <td>77</td>\n",
       "      <td>13.37%</td>\n",
       "    </tr>\n",
       "    <tr>\n",
       "      <th>30-34</th>\n",
       "      <td>52</td>\n",
       "      <td>9.03%</td>\n",
       "    </tr>\n",
       "    <tr>\n",
       "      <th>35-39</th>\n",
       "      <td>31</td>\n",
       "      <td>5.38%</td>\n",
       "    </tr>\n",
       "    <tr>\n",
       "      <th>40+</th>\n",
       "      <td>12</td>\n",
       "      <td>2.08%</td>\n",
       "    </tr>\n",
       "  </tbody>\n",
       "</table>\n",
       "</div>"
      ],
      "text/plain": [
       "           Total Count Percentage of Players\n",
       "Age Group                                   \n",
       "<10                 17                 2.95%\n",
       "10-14               22                 3.82%\n",
       "15-19              107                18.58%\n",
       "20-24              258                44.79%\n",
       "25-29               77                13.37%\n",
       "30-34               52                 9.03%\n",
       "35-39               31                 5.38%\n",
       "40+                 12                 2.08%"
      ]
     },
     "execution_count": 6,
     "metadata": {},
     "output_type": "execute_result"
    }
   ],
   "source": [
    "# Create bins for various age groups by defining bin edges\n",
    "bins = [0, 10, 15, 20, 25, 30, 35, 40, 100.1]\n",
    "\n",
    "# Create names for the bins\n",
    "bin_names = [\"<10\", \"10-14\", \"15-19\", \"20-24\", \"25-29\", \"30-34\", \"35-39\", \"40+\"]\n",
    "\n",
    "# Create an Age Group column to house the data cut on the age column of the purchase data\n",
    "purchase_data[\"Age Group\"] = pd.cut(purchase_data[\"Age\"], bins, labels=bin_names, right=False, include_lowest=True)\n",
    "\n",
    "# Group the purchase data by grouping by the newly created age group column and getting the number of unique screen name values for each\n",
    "age_count = purchase_data.groupby(\"Age Group\")[\"SN\"].nunique()\n",
    "\n",
    "# Get the percentage of players falling into each bin by dividing the count for each bin by the total number of players; multiply by 100 for subsequent formatting\n",
    "age_percent = (age_count / player_count) * 100\n",
    "\n",
    "# Create, format and display the DataFrame\n",
    "age_demos = pd.DataFrame({\n",
    "    \"Total Count\": age_count, \n",
    "    \"Percentage of Players\": age_percent.map(\"{:.2f}%\".format),\n",
    "})\n",
    "age_demos"
   ]
  },
  {
   "cell_type": "markdown",
   "metadata": {},
   "source": [
    "## Purchasing Analysis (Age)"
   ]
  },
  {
   "cell_type": "markdown",
   "metadata": {},
   "source": [
    "* Bin the purchase_data data frame by age\n",
    "\n",
    "\n",
    "* Run basic calculations to obtain purchase count, avg. purchase price, avg. purchase total per person etc. in the table below\n",
    "\n",
    "\n",
    "* Create a summary data frame to hold the results\n",
    "\n",
    "\n",
    "* Optional: give the displayed data cleaner formatting\n",
    "\n",
    "\n",
    "* Display the summary data frame"
   ]
  },
  {
   "cell_type": "code",
   "execution_count": 8,
   "metadata": {},
   "outputs": [
    {
     "data": {
      "text/html": [
       "<div>\n",
       "<style scoped>\n",
       "    .dataframe tbody tr th:only-of-type {\n",
       "        vertical-align: middle;\n",
       "    }\n",
       "\n",
       "    .dataframe tbody tr th {\n",
       "        vertical-align: top;\n",
       "    }\n",
       "\n",
       "    .dataframe thead th {\n",
       "        text-align: right;\n",
       "    }\n",
       "</style>\n",
       "<table border=\"1\" class=\"dataframe\">\n",
       "  <thead>\n",
       "    <tr style=\"text-align: right;\">\n",
       "      <th></th>\n",
       "      <th>Purchase Count</th>\n",
       "      <th>Average Purchase Price</th>\n",
       "      <th>Total Purchase Value</th>\n",
       "      <th>Avg Total Purchase Per Person</th>\n",
       "    </tr>\n",
       "    <tr>\n",
       "      <th>Age Group</th>\n",
       "      <th></th>\n",
       "      <th></th>\n",
       "      <th></th>\n",
       "      <th></th>\n",
       "    </tr>\n",
       "  </thead>\n",
       "  <tbody>\n",
       "    <tr>\n",
       "      <th>&lt;10</th>\n",
       "      <td>23</td>\n",
       "      <td>$3.35</td>\n",
       "      <td>$77.13</td>\n",
       "      <td>$4.54</td>\n",
       "    </tr>\n",
       "    <tr>\n",
       "      <th>10-14</th>\n",
       "      <td>28</td>\n",
       "      <td>$2.96</td>\n",
       "      <td>$82.78</td>\n",
       "      <td>$3.76</td>\n",
       "    </tr>\n",
       "    <tr>\n",
       "      <th>15-19</th>\n",
       "      <td>136</td>\n",
       "      <td>$3.04</td>\n",
       "      <td>$412.89</td>\n",
       "      <td>$3.86</td>\n",
       "    </tr>\n",
       "    <tr>\n",
       "      <th>20-24</th>\n",
       "      <td>365</td>\n",
       "      <td>$3.05</td>\n",
       "      <td>$1,114.06</td>\n",
       "      <td>$4.32</td>\n",
       "    </tr>\n",
       "    <tr>\n",
       "      <th>25-29</th>\n",
       "      <td>101</td>\n",
       "      <td>$2.90</td>\n",
       "      <td>$293.00</td>\n",
       "      <td>$3.81</td>\n",
       "    </tr>\n",
       "    <tr>\n",
       "      <th>30-34</th>\n",
       "      <td>73</td>\n",
       "      <td>$2.93</td>\n",
       "      <td>$214.00</td>\n",
       "      <td>$4.12</td>\n",
       "    </tr>\n",
       "    <tr>\n",
       "      <th>35-39</th>\n",
       "      <td>41</td>\n",
       "      <td>$3.60</td>\n",
       "      <td>$147.67</td>\n",
       "      <td>$4.76</td>\n",
       "    </tr>\n",
       "    <tr>\n",
       "      <th>40+</th>\n",
       "      <td>13</td>\n",
       "      <td>$2.94</td>\n",
       "      <td>$38.24</td>\n",
       "      <td>$3.19</td>\n",
       "    </tr>\n",
       "  </tbody>\n",
       "</table>\n",
       "</div>"
      ],
      "text/plain": [
       "           Purchase Count Average Purchase Price Total Purchase Value  \\\n",
       "Age Group                                                               \n",
       "<10                    23                  $3.35               $77.13   \n",
       "10-14                  28                  $2.96               $82.78   \n",
       "15-19                 136                  $3.04              $412.89   \n",
       "20-24                 365                  $3.05            $1,114.06   \n",
       "25-29                 101                  $2.90              $293.00   \n",
       "30-34                  73                  $2.93              $214.00   \n",
       "35-39                  41                  $3.60              $147.67   \n",
       "40+                    13                  $2.94               $38.24   \n",
       "\n",
       "          Avg Total Purchase Per Person  \n",
       "Age Group                                \n",
       "<10                               $4.54  \n",
       "10-14                             $3.76  \n",
       "15-19                             $3.86  \n",
       "20-24                             $4.32  \n",
       "25-29                             $3.81  \n",
       "30-34                             $4.12  \n",
       "35-39                             $4.76  \n",
       "40+                               $3.19  "
      ]
     },
     "execution_count": 8,
     "metadata": {},
     "output_type": "execute_result"
    }
   ],
   "source": [
    "# Get the total purchase count for each bin by grouping by age group, then by purchase ID and taking the count\n",
    "purch_count1 = purchase_data.groupby(\"Age Group\")[\"Purchase ID\"].count()\n",
    "\n",
    "# Get the average purchase price for each bin by grouping by Age Group and calculating the average (mean) for the price column\n",
    "avg_price1 = purchase_data.groupby(\"Age Group\")[\"Price\"].mean()\n",
    "\n",
    "# Get the total value of purchases by multiplying the average price per item purchased by the total number of items purchased\n",
    "total_value1 = avg_price1 * purch_count1\n",
    "\n",
    "# Get the average total for each bin by dividing the total value of purchases by number of players in each age group\n",
    "avg_purch1 = total_value1 / age_count\n",
    "\n",
    "# Create and display the formatted DataFrame\n",
    "age_analysis  = pd.DataFrame({\n",
    "    \"Purchase Count\": purch_count1, \n",
    "    \"Average Purchase Price\": avg_price1.map(\"${:.2f}\".format), \n",
    "    \"Total Purchase Value\": total_value1.map(\"${:,.2f}\".format), \n",
    "    \"Avg Total Purchase Per Person\": avg_purch1.map(\"${:.2f}\".format)\n",
    "})\n",
    "age_analysis"
   ]
  },
  {
   "cell_type": "markdown",
   "metadata": {},
   "source": [
    "## Top Spenders"
   ]
  },
  {
   "cell_type": "markdown",
   "metadata": {},
   "source": [
    "* Run basic calculations to obtain the results in the table below\n",
    "\n",
    "\n",
    "* Create a summary data frame to hold the results\n",
    "\n",
    "\n",
    "* Sort the total purchase value column in descending order\n",
    "\n",
    "\n",
    "* Optional: give the displayed data cleaner formatting\n",
    "\n",
    "\n",
    "* Display a preview of the summary data frame\n",
    "\n"
   ]
  },
  {
   "cell_type": "code",
   "execution_count": 9,
   "metadata": {},
   "outputs": [
    {
     "data": {
      "text/html": [
       "<style  type=\"text/css\" >\n",
       "</style><table id=\"T_4e59b0e3_821f_11eb_9c28_9cb6d099b35a\" ><thead>    <tr>        <th class=\"blank level0\" ></th>        <th class=\"col_heading level0 col0\" >Purchase Count</th>        <th class=\"col_heading level0 col1\" >Average Purchase Price</th>        <th class=\"col_heading level0 col2\" >Total Purchase Value</th>    </tr>    <tr>        <th class=\"index_name level0\" >SN</th>        <th class=\"blank\" ></th>        <th class=\"blank\" ></th>        <th class=\"blank\" ></th>    </tr></thead><tbody>\n",
       "                <tr>\n",
       "                        <th id=\"T_4e59b0e3_821f_11eb_9c28_9cb6d099b35alevel0_row0\" class=\"row_heading level0 row0\" >Lisosia93</th>\n",
       "                        <td id=\"T_4e59b0e3_821f_11eb_9c28_9cb6d099b35arow0_col0\" class=\"data row0 col0\" >5</td>\n",
       "                        <td id=\"T_4e59b0e3_821f_11eb_9c28_9cb6d099b35arow0_col1\" class=\"data row0 col1\" >$3.79</td>\n",
       "                        <td id=\"T_4e59b0e3_821f_11eb_9c28_9cb6d099b35arow0_col2\" class=\"data row0 col2\" >$18.96</td>\n",
       "            </tr>\n",
       "            <tr>\n",
       "                        <th id=\"T_4e59b0e3_821f_11eb_9c28_9cb6d099b35alevel0_row1\" class=\"row_heading level0 row1\" >Idastidru52</th>\n",
       "                        <td id=\"T_4e59b0e3_821f_11eb_9c28_9cb6d099b35arow1_col0\" class=\"data row1 col0\" >4</td>\n",
       "                        <td id=\"T_4e59b0e3_821f_11eb_9c28_9cb6d099b35arow1_col1\" class=\"data row1 col1\" >$3.86</td>\n",
       "                        <td id=\"T_4e59b0e3_821f_11eb_9c28_9cb6d099b35arow1_col2\" class=\"data row1 col2\" >$15.45</td>\n",
       "            </tr>\n",
       "            <tr>\n",
       "                        <th id=\"T_4e59b0e3_821f_11eb_9c28_9cb6d099b35alevel0_row2\" class=\"row_heading level0 row2\" >Chamjask73</th>\n",
       "                        <td id=\"T_4e59b0e3_821f_11eb_9c28_9cb6d099b35arow2_col0\" class=\"data row2 col0\" >3</td>\n",
       "                        <td id=\"T_4e59b0e3_821f_11eb_9c28_9cb6d099b35arow2_col1\" class=\"data row2 col1\" >$4.61</td>\n",
       "                        <td id=\"T_4e59b0e3_821f_11eb_9c28_9cb6d099b35arow2_col2\" class=\"data row2 col2\" >$13.83</td>\n",
       "            </tr>\n",
       "            <tr>\n",
       "                        <th id=\"T_4e59b0e3_821f_11eb_9c28_9cb6d099b35alevel0_row3\" class=\"row_heading level0 row3\" >Iral74</th>\n",
       "                        <td id=\"T_4e59b0e3_821f_11eb_9c28_9cb6d099b35arow3_col0\" class=\"data row3 col0\" >4</td>\n",
       "                        <td id=\"T_4e59b0e3_821f_11eb_9c28_9cb6d099b35arow3_col1\" class=\"data row3 col1\" >$3.40</td>\n",
       "                        <td id=\"T_4e59b0e3_821f_11eb_9c28_9cb6d099b35arow3_col2\" class=\"data row3 col2\" >$13.62</td>\n",
       "            </tr>\n",
       "            <tr>\n",
       "                        <th id=\"T_4e59b0e3_821f_11eb_9c28_9cb6d099b35alevel0_row4\" class=\"row_heading level0 row4\" >Iskadarya95</th>\n",
       "                        <td id=\"T_4e59b0e3_821f_11eb_9c28_9cb6d099b35arow4_col0\" class=\"data row4 col0\" >3</td>\n",
       "                        <td id=\"T_4e59b0e3_821f_11eb_9c28_9cb6d099b35arow4_col1\" class=\"data row4 col1\" >$4.37</td>\n",
       "                        <td id=\"T_4e59b0e3_821f_11eb_9c28_9cb6d099b35arow4_col2\" class=\"data row4 col2\" >$13.10</td>\n",
       "            </tr>\n",
       "    </tbody></table>"
      ],
      "text/plain": [
       "<pandas.io.formats.style.Styler at 0x1928538ee80>"
      ]
     },
     "execution_count": 9,
     "metadata": {},
     "output_type": "execute_result"
    }
   ],
   "source": [
    "# Get the total purchase count for each individual player by grouping by screen name, then by purchase ID and taking the count\n",
    "spender_count = purchase_data.groupby(\"SN\")[\"Purchase ID\"].count()\n",
    "\n",
    "# Get the average purchase price for each player by grouping by screen name and calculating the average (mean) for the price column\n",
    "spender_avg = purchase_data.groupby(\"SN\")[\"Price\"].mean()\n",
    "\n",
    "# Get the total purcahse value for each player by grouping by screen name and calculating the sum of all items purchased respective to each player\n",
    "total_value2 = purchase_data.groupby(\"SN\")[\"Price\"].sum()\n",
    "\n",
    "# Create the DataFrame\n",
    "top_spenders = pd.DataFrame({\n",
    "    \"Purchase Count\": spender_count, \n",
    "    \"Average Purchase Price\": spender_avg,\n",
    "    \"Total Purchase Value\": total_value2\n",
    "})\n",
    "\n",
    "# Sort the DataFrame and isolate the top five players by total purchase value (dollars spent per player) and sort in descending order\n",
    "top_spenders = top_spenders.sort_values(by=[\"Total Purchase Value\"],ascending=False).head()\n",
    "\n",
    "# Format the appropriate DataFrame columns\n",
    "top_spenders.style.format({\"Average Purchase Price\":\"${:.2f}\",\"Total Purchase Value\":\"${:.2f}\"})"
   ]
  },
  {
   "cell_type": "markdown",
   "metadata": {},
   "source": [
    "## Most Popular Items"
   ]
  },
  {
   "cell_type": "markdown",
   "metadata": {},
   "source": [
    "* Retrieve the Item ID, Item Name, and Item Price columns\n",
    "\n",
    "\n",
    "* Group by Item ID and Item Name. Perform calculations to obtain purchase count, average item price, and total purchase value\n",
    "\n",
    "\n",
    "* Create a summary data frame to hold the results\n",
    "\n",
    "\n",
    "* Sort the purchase count column in descending order\n",
    "\n",
    "\n",
    "* Optional: give the displayed data cleaner formatting\n",
    "\n",
    "\n",
    "* Display a preview of the summary data frame\n",
    "\n"
   ]
  },
  {
   "cell_type": "code",
   "execution_count": 10,
   "metadata": {},
   "outputs": [
    {
     "data": {
      "text/html": [
       "<style  type=\"text/css\" >\n",
       "</style><table id=\"T_94dabfe3_821f_11eb_acbd_9cb6d099b35a\" ><thead>    <tr>        <th class=\"blank\" ></th>        <th class=\"blank level0\" ></th>        <th class=\"col_heading level0 col0\" >Purchase Count</th>        <th class=\"col_heading level0 col1\" >Average Purchase Price</th>        <th class=\"col_heading level0 col2\" >Total Purchase Value</th>    </tr>    <tr>        <th class=\"index_name level0\" >Item ID</th>        <th class=\"index_name level1\" >Item Name</th>        <th class=\"blank\" ></th>        <th class=\"blank\" ></th>        <th class=\"blank\" ></th>    </tr></thead><tbody>\n",
       "                <tr>\n",
       "                        <th id=\"T_94dabfe3_821f_11eb_acbd_9cb6d099b35alevel0_row0\" class=\"row_heading level0 row0\" >92</th>\n",
       "                        <th id=\"T_94dabfe3_821f_11eb_acbd_9cb6d099b35alevel1_row0\" class=\"row_heading level1 row0\" >Final Critic</th>\n",
       "                        <td id=\"T_94dabfe3_821f_11eb_acbd_9cb6d099b35arow0_col0\" class=\"data row0 col0\" >13</td>\n",
       "                        <td id=\"T_94dabfe3_821f_11eb_acbd_9cb6d099b35arow0_col1\" class=\"data row0 col1\" >$4.61</td>\n",
       "                        <td id=\"T_94dabfe3_821f_11eb_acbd_9cb6d099b35arow0_col2\" class=\"data row0 col2\" >$59.99</td>\n",
       "            </tr>\n",
       "            <tr>\n",
       "                        <th id=\"T_94dabfe3_821f_11eb_acbd_9cb6d099b35alevel0_row1\" class=\"row_heading level0 row1\" >178</th>\n",
       "                        <th id=\"T_94dabfe3_821f_11eb_acbd_9cb6d099b35alevel1_row1\" class=\"row_heading level1 row1\" >Oathbreaker, Last Hope of the Breaking Storm</th>\n",
       "                        <td id=\"T_94dabfe3_821f_11eb_acbd_9cb6d099b35arow1_col0\" class=\"data row1 col0\" >12</td>\n",
       "                        <td id=\"T_94dabfe3_821f_11eb_acbd_9cb6d099b35arow1_col1\" class=\"data row1 col1\" >$4.23</td>\n",
       "                        <td id=\"T_94dabfe3_821f_11eb_acbd_9cb6d099b35arow1_col2\" class=\"data row1 col2\" >$50.76</td>\n",
       "            </tr>\n",
       "            <tr>\n",
       "                        <th id=\"T_94dabfe3_821f_11eb_acbd_9cb6d099b35alevel0_row2\" class=\"row_heading level0 row2\" >145</th>\n",
       "                        <th id=\"T_94dabfe3_821f_11eb_acbd_9cb6d099b35alevel1_row2\" class=\"row_heading level1 row2\" >Fiery Glass Crusader</th>\n",
       "                        <td id=\"T_94dabfe3_821f_11eb_acbd_9cb6d099b35arow2_col0\" class=\"data row2 col0\" >9</td>\n",
       "                        <td id=\"T_94dabfe3_821f_11eb_acbd_9cb6d099b35arow2_col1\" class=\"data row2 col1\" >$4.58</td>\n",
       "                        <td id=\"T_94dabfe3_821f_11eb_acbd_9cb6d099b35arow2_col2\" class=\"data row2 col2\" >$41.22</td>\n",
       "            </tr>\n",
       "            <tr>\n",
       "                        <th id=\"T_94dabfe3_821f_11eb_acbd_9cb6d099b35alevel0_row3\" class=\"row_heading level0 row3\" >132</th>\n",
       "                        <th id=\"T_94dabfe3_821f_11eb_acbd_9cb6d099b35alevel1_row3\" class=\"row_heading level1 row3\" >Persuasion</th>\n",
       "                        <td id=\"T_94dabfe3_821f_11eb_acbd_9cb6d099b35arow3_col0\" class=\"data row3 col0\" >9</td>\n",
       "                        <td id=\"T_94dabfe3_821f_11eb_acbd_9cb6d099b35arow3_col1\" class=\"data row3 col1\" >$3.22</td>\n",
       "                        <td id=\"T_94dabfe3_821f_11eb_acbd_9cb6d099b35arow3_col2\" class=\"data row3 col2\" >$28.99</td>\n",
       "            </tr>\n",
       "            <tr>\n",
       "                        <th id=\"T_94dabfe3_821f_11eb_acbd_9cb6d099b35alevel0_row4\" class=\"row_heading level0 row4\" >108</th>\n",
       "                        <th id=\"T_94dabfe3_821f_11eb_acbd_9cb6d099b35alevel1_row4\" class=\"row_heading level1 row4\" >Extraction, Quickblade Of Trembling Hands</th>\n",
       "                        <td id=\"T_94dabfe3_821f_11eb_acbd_9cb6d099b35arow4_col0\" class=\"data row4 col0\" >9</td>\n",
       "                        <td id=\"T_94dabfe3_821f_11eb_acbd_9cb6d099b35arow4_col1\" class=\"data row4 col1\" >$3.53</td>\n",
       "                        <td id=\"T_94dabfe3_821f_11eb_acbd_9cb6d099b35arow4_col2\" class=\"data row4 col2\" >$31.77</td>\n",
       "            </tr>\n",
       "    </tbody></table>"
      ],
      "text/plain": [
       "<pandas.io.formats.style.Styler at 0x192874dfa90>"
      ]
     },
     "execution_count": 10,
     "metadata": {},
     "output_type": "execute_result"
    }
   ],
   "source": [
    "# Retrieve the relevant columns from the purchase data\n",
    "purchase_data2 = purchase_data[[\"Item ID\", \"Item Name\", \"Price\"]]\n",
    "\n",
    "# Group the relevant columns first by itme ID, then by item name\n",
    "grouped_df = purchase_data2.groupby([\"Item ID\", \"Item Name\"])\n",
    "\n",
    "# Get the total purchase count for each item by taking the count of each item ID\n",
    "item_count = grouped_df[\"Item ID\"].count()\n",
    "\n",
    "# Get the average price for each item purchased by calculating the average (mean) for the price column\n",
    "item_avgprice = grouped_df[\"Price\"].mean()\n",
    "\n",
    "# Get the total value of purchases for each item by multiplying the purchase count by the average price for each item\n",
    "item_total = item_count * item_avgprice\n",
    "\n",
    "# Create the DataFrame\n",
    "popular_items = pd.DataFrame({\n",
    "    \"Purchase Count\": item_count, \n",
    "    \"Average Purchase Price\": item_avgprice,\n",
    "    \"Total Purchase Value\": item_total\n",
    "})\n",
    "\n",
    "# Sort the DataFrame by the top five most frequently purchased items and sort in descending order\n",
    "popular_formatted = popular_items.sort_values(by=[\"Purchase Count\"],ascending=False).head()\n",
    "\n",
    "# Format the appropriate DataFrame columns\n",
    "popular_formatted.style.format({\"Average Purchase Price\":\"${:.2f}\",\"Total Purchase Value\":\"${:.2f}\"})"
   ]
  },
  {
   "cell_type": "markdown",
   "metadata": {},
   "source": [
    "## Most Profitable Items"
   ]
  },
  {
   "cell_type": "markdown",
   "metadata": {},
   "source": [
    "* Sort the above table by total purchase value in descending order\n",
    "\n",
    "\n",
    "* Optional: give the displayed data cleaner formatting\n",
    "\n",
    "\n",
    "* Display a preview of the data frame\n",
    "\n"
   ]
  },
  {
   "cell_type": "code",
   "execution_count": 11,
   "metadata": {
    "scrolled": true
   },
   "outputs": [
    {
     "data": {
      "text/html": [
       "<style  type=\"text/css\" >\n",
       "</style><table id=\"T_af29b993_821f_11eb_aacd_9cb6d099b35a\" ><thead>    <tr>        <th class=\"blank\" ></th>        <th class=\"blank level0\" ></th>        <th class=\"col_heading level0 col0\" >Purchase Count</th>        <th class=\"col_heading level0 col1\" >Average Purchase Price</th>        <th class=\"col_heading level0 col2\" >Total Purchase Value</th>    </tr>    <tr>        <th class=\"index_name level0\" >Item ID</th>        <th class=\"index_name level1\" >Item Name</th>        <th class=\"blank\" ></th>        <th class=\"blank\" ></th>        <th class=\"blank\" ></th>    </tr></thead><tbody>\n",
       "                <tr>\n",
       "                        <th id=\"T_af29b993_821f_11eb_aacd_9cb6d099b35alevel0_row0\" class=\"row_heading level0 row0\" >92</th>\n",
       "                        <th id=\"T_af29b993_821f_11eb_aacd_9cb6d099b35alevel1_row0\" class=\"row_heading level1 row0\" >Final Critic</th>\n",
       "                        <td id=\"T_af29b993_821f_11eb_aacd_9cb6d099b35arow0_col0\" class=\"data row0 col0\" >13</td>\n",
       "                        <td id=\"T_af29b993_821f_11eb_aacd_9cb6d099b35arow0_col1\" class=\"data row0 col1\" >$4.61</td>\n",
       "                        <td id=\"T_af29b993_821f_11eb_aacd_9cb6d099b35arow0_col2\" class=\"data row0 col2\" >$59.99</td>\n",
       "            </tr>\n",
       "            <tr>\n",
       "                        <th id=\"T_af29b993_821f_11eb_aacd_9cb6d099b35alevel0_row1\" class=\"row_heading level0 row1\" >178</th>\n",
       "                        <th id=\"T_af29b993_821f_11eb_aacd_9cb6d099b35alevel1_row1\" class=\"row_heading level1 row1\" >Oathbreaker, Last Hope of the Breaking Storm</th>\n",
       "                        <td id=\"T_af29b993_821f_11eb_aacd_9cb6d099b35arow1_col0\" class=\"data row1 col0\" >12</td>\n",
       "                        <td id=\"T_af29b993_821f_11eb_aacd_9cb6d099b35arow1_col1\" class=\"data row1 col1\" >$4.23</td>\n",
       "                        <td id=\"T_af29b993_821f_11eb_aacd_9cb6d099b35arow1_col2\" class=\"data row1 col2\" >$50.76</td>\n",
       "            </tr>\n",
       "            <tr>\n",
       "                        <th id=\"T_af29b993_821f_11eb_aacd_9cb6d099b35alevel0_row2\" class=\"row_heading level0 row2\" >82</th>\n",
       "                        <th id=\"T_af29b993_821f_11eb_aacd_9cb6d099b35alevel1_row2\" class=\"row_heading level1 row2\" >Nirvana</th>\n",
       "                        <td id=\"T_af29b993_821f_11eb_aacd_9cb6d099b35arow2_col0\" class=\"data row2 col0\" >9</td>\n",
       "                        <td id=\"T_af29b993_821f_11eb_aacd_9cb6d099b35arow2_col1\" class=\"data row2 col1\" >$4.90</td>\n",
       "                        <td id=\"T_af29b993_821f_11eb_aacd_9cb6d099b35arow2_col2\" class=\"data row2 col2\" >$44.10</td>\n",
       "            </tr>\n",
       "            <tr>\n",
       "                        <th id=\"T_af29b993_821f_11eb_aacd_9cb6d099b35alevel0_row3\" class=\"row_heading level0 row3\" >145</th>\n",
       "                        <th id=\"T_af29b993_821f_11eb_aacd_9cb6d099b35alevel1_row3\" class=\"row_heading level1 row3\" >Fiery Glass Crusader</th>\n",
       "                        <td id=\"T_af29b993_821f_11eb_aacd_9cb6d099b35arow3_col0\" class=\"data row3 col0\" >9</td>\n",
       "                        <td id=\"T_af29b993_821f_11eb_aacd_9cb6d099b35arow3_col1\" class=\"data row3 col1\" >$4.58</td>\n",
       "                        <td id=\"T_af29b993_821f_11eb_aacd_9cb6d099b35arow3_col2\" class=\"data row3 col2\" >$41.22</td>\n",
       "            </tr>\n",
       "            <tr>\n",
       "                        <th id=\"T_af29b993_821f_11eb_aacd_9cb6d099b35alevel0_row4\" class=\"row_heading level0 row4\" >103</th>\n",
       "                        <th id=\"T_af29b993_821f_11eb_aacd_9cb6d099b35alevel1_row4\" class=\"row_heading level1 row4\" >Singed Scalpel</th>\n",
       "                        <td id=\"T_af29b993_821f_11eb_aacd_9cb6d099b35arow4_col0\" class=\"data row4 col0\" >8</td>\n",
       "                        <td id=\"T_af29b993_821f_11eb_aacd_9cb6d099b35arow4_col1\" class=\"data row4 col1\" >$4.35</td>\n",
       "                        <td id=\"T_af29b993_821f_11eb_aacd_9cb6d099b35arow4_col2\" class=\"data row4 col2\" >$34.80</td>\n",
       "            </tr>\n",
       "    </tbody></table>"
      ],
      "text/plain": [
       "<pandas.io.formats.style.Styler at 0x1928853c160>"
      ]
     },
     "execution_count": 11,
     "metadata": {},
     "output_type": "execute_result"
    }
   ],
   "source": [
    "# Take the previously created DataFrame and create a new version sorted by the top five total respective purchase values\n",
    "popular_formatted2 = popular_items.sort_values(by=[\"Total Purchase Value\"],ascending=False).head()\n",
    "\n",
    "# Format the appropriate columns\n",
    "popular_formatted2.style.format({\"Average Purchase Price\":\"${:.2f}\",\"Total Purchase Value\":\"${:.2f}\"})"
   ]
  },
  {
   "cell_type": "code",
   "execution_count": null,
   "metadata": {},
   "outputs": [],
   "source": []
  }
 ],
 "metadata": {
  "anaconda-cloud": {},
  "kernel_info": {
   "name": "python3"
  },
  "kernelspec": {
   "display_name": "Python 3",
   "language": "python",
   "name": "python3"
  },
  "language_info": {
   "codemirror_mode": {
    "name": "ipython",
    "version": 3
   },
   "file_extension": ".py",
   "mimetype": "text/x-python",
   "name": "python",
   "nbconvert_exporter": "python",
   "pygments_lexer": "ipython3",
   "version": "3.8.5"
  },
  "latex_envs": {
   "LaTeX_envs_menu_present": true,
   "autoclose": false,
   "autocomplete": true,
   "bibliofile": "biblio.bib",
   "cite_by": "apalike",
   "current_citInitial": 1,
   "eqLabelWithNumbers": true,
   "eqNumInitial": 1,
   "hotkeys": {
    "equation": "Ctrl-E",
    "itemize": "Ctrl-I"
   },
   "labels_anchors": false,
   "latex_user_defs": false,
   "report_style_numbering": false,
   "user_envs_cfg": false
  },
  "nteract": {
   "version": "0.2.0"
  }
 },
 "nbformat": 4,
 "nbformat_minor": 4
}
